{
 "cells": [
  {
   "cell_type": "markdown",
   "metadata": {},
   "source": [
    "# Basics of Feature Selection with Python\n",
    "In machine learning, feature selection is the process of choosing a subset of input features that contribute the most to the output feature for use in model construction. Feature selection is substantially important if we have datasets with high dimensionality (i.e., large number of features). High-dimensional datasets are not preferred because they have lengthy training time and have high risk of overfitting. Feature selection helps to mitigate these problems by selecting features that have high importance to the model, such that the data dimensionality can be reduced without much loss of the total information. Some benefits of feature selection are:\n",
    "- Reduce training time\n",
    "- Reduce the risk of overfitting\n",
    "- Potentially increase model's performance \n",
    "- Reduce model's complexity such that interpretation becomes easier\n",
    "\n",
    "The objective of this notebook is to introduce the fundamental of feature selection in Python. I have tried to keep the notebook as basic as possible so that even newbies can understand every phase of it.  If you think this notebook gives something valuable to your journey to data science, PLEASE UPVOTE. It will keep me motivated.\n",
    "\n",
    "We will discuss three key methods to perform feature selection together with their implementation in Python:\n",
    "1. [Filter methods](#section 1.0.)\n",
    "2. [Wrapper methods](#section 2.0.)\n",
    "3. [Embedded methods](#section 3.0.)\n",
    "\n",
    "Before we get started, let's import the necessary Python libraries."
   ]
  },
  {
   "cell_type": "code",
   "execution_count": 190,
   "metadata": {
    "collapsed": true
   },
   "outputs": [],
   "source": [
    "import numpy as np\n",
    "import pandas as pd\n",
    "\n",
    "import matplotlib.pyplot as plt\n",
    "import seaborn as sns\n",
    "sns.set(style=\"whitegrid\")\n",
    "\n",
    "import warnings\n",
    "warnings.filterwarnings('ignore')"
   ]
  },
  {
   "cell_type": "markdown",
   "metadata": {},
   "source": [
    "We will do some demonstrations on how to implement each feature selection method in Python. To do that, we use Iris flower dataset. We import the Iris flower dataset from Scikit-learn by calling the following:"
   ]
  },
  {
   "cell_type": "code",
   "execution_count": 191,
   "metadata": {},
   "outputs": [
    {
     "data": {
      "text/html": [
       "<div>\n",
       "<style scoped>\n",
       "    .dataframe tbody tr th:only-of-type {\n",
       "        vertical-align: middle;\n",
       "    }\n",
       "\n",
       "    .dataframe tbody tr th {\n",
       "        vertical-align: top;\n",
       "    }\n",
       "\n",
       "    .dataframe thead th {\n",
       "        text-align: right;\n",
       "    }\n",
       "</style>\n",
       "<table border=\"1\" class=\"dataframe\">\n",
       "  <thead>\n",
       "    <tr style=\"text-align: right;\">\n",
       "      <th></th>\n",
       "      <th>sepal length (cm)</th>\n",
       "      <th>sepal width (cm)</th>\n",
       "      <th>petal length (cm)</th>\n",
       "      <th>petal width (cm)</th>\n",
       "    </tr>\n",
       "  </thead>\n",
       "  <tbody>\n",
       "    <tr>\n",
       "      <th>0</th>\n",
       "      <td>5.1</td>\n",
       "      <td>3.5</td>\n",
       "      <td>1.4</td>\n",
       "      <td>0.2</td>\n",
       "    </tr>\n",
       "    <tr>\n",
       "      <th>1</th>\n",
       "      <td>4.9</td>\n",
       "      <td>3.0</td>\n",
       "      <td>1.4</td>\n",
       "      <td>0.2</td>\n",
       "    </tr>\n",
       "    <tr>\n",
       "      <th>2</th>\n",
       "      <td>4.7</td>\n",
       "      <td>3.2</td>\n",
       "      <td>1.3</td>\n",
       "      <td>0.2</td>\n",
       "    </tr>\n",
       "    <tr>\n",
       "      <th>3</th>\n",
       "      <td>4.6</td>\n",
       "      <td>3.1</td>\n",
       "      <td>1.5</td>\n",
       "      <td>0.2</td>\n",
       "    </tr>\n",
       "    <tr>\n",
       "      <th>4</th>\n",
       "      <td>5.0</td>\n",
       "      <td>3.6</td>\n",
       "      <td>1.4</td>\n",
       "      <td>0.2</td>\n",
       "    </tr>\n",
       "  </tbody>\n",
       "</table>\n",
       "</div>"
      ],
      "text/plain": [
       "   sepal length (cm)  sepal width (cm)  petal length (cm)  petal width (cm)\n",
       "0                5.1               3.5                1.4               0.2\n",
       "1                4.9               3.0                1.4               0.2\n",
       "2                4.7               3.2                1.3               0.2\n",
       "3                4.6               3.1                1.5               0.2\n",
       "4                5.0               3.6                1.4               0.2"
      ]
     },
     "execution_count": 191,
     "metadata": {},
     "output_type": "execute_result"
    }
   ],
   "source": [
    "# Load Iris dataset from Scikit-learn\n",
    "from sklearn.datasets import load_iris\n",
    "\n",
    "# Create input and output features\n",
    "feature_names = load_iris().feature_names\n",
    "X_data = pd.DataFrame(load_iris().data, columns=feature_names)\n",
    "y_data = load_iris().target\n",
    "\n",
    "# Show the first five rows of the dataset\n",
    "X_data.head()"
   ]
  },
  {
   "cell_type": "markdown",
   "metadata": {},
   "source": [
    "<a id='section 1.0.'></a>"
   ]
  },
  {
   "cell_type": "markdown",
   "metadata": {},
   "source": [
    "# 1.0. Filter Methods\n",
    "In filter methods, features are selected independently from any machine algorithms. Filter methods generally use a specific criteria, such as scores in statistical test and variances, to rank the importance of individual features. Filter methods have some advantages:\n",
    "- Because of their independency to the selection of machine learning algorithms, they can be used as the input of any machine learning models. \n",
    "- They are generally effective in computation time.\n",
    "\n",
    "The main weakness of filter methods is that they do not consider the relationships among features. That's why they are mainly used as the pre-processing step of any feature selection pipeline. We will discuss three types of filter selection methods:\n",
    "1. [ANOVA F-value](#section 1.1.)\n",
    "2. [Variance Threshold](#section 1.2.)\n",
    "3. [Mutual Information](#section 1.3.)"
   ]
  },
  {
   "cell_type": "markdown",
   "metadata": {},
   "source": [
    "<a id='section 1.1.'></a>"
   ]
  },
  {
   "cell_type": "markdown",
   "metadata": {},
   "source": [
    "## 1.1. ANOVA F-value\n",
    "ANOVA F-value method estimates the degree of linearity between the input feature (i.e., predictor) and the output feature. A high F-value indicates high degree of linearity and a low F-value indicates low degree of linearity. The main disadvantage of using ANOVA F-value is it only captures linear relationships between input and output feature. In other words, any non-linear relationships cannot be detected by F-value. \n",
    "\n",
    "We can use Scikit-learn to calculate ANOVA F-value. First, we need to load the library. Scikit-learn has two functions to calculate F-value:\n",
    "- **f_classif**, which calculate F-value between input and output feature for classification task\n",
    "- **f_regression**, which calculate F-value between input and output feature for classification task\n",
    "\n",
    "We will use **f_classif** because the Iris dataset entails classification task."
   ]
  },
  {
   "cell_type": "code",
   "execution_count": 192,
   "metadata": {
    "collapsed": true
   },
   "outputs": [],
   "source": [
    "# Import f_classif from Scikit-learn\n",
    "from sklearn.feature_selection import f_classif"
   ]
  },
  {
   "cell_type": "markdown",
   "metadata": {},
   "source": [
    "Then, we calculate F-value for each input feature in the Iris dataset by calling the following:"
   ]
  },
  {
   "cell_type": "code",
   "execution_count": 193,
   "metadata": {},
   "outputs": [
    {
     "name": "stdout",
     "output_type": "stream",
     "text": [
      "('sepal length (cm)', 119.26450218449871)\n",
      "('sepal width (cm)', 49.16004008961098)\n",
      "('petal length (cm)', 1180.1611822529776)\n",
      "('petal width (cm)', 960.0071468018025)\n"
     ]
    }
   ],
   "source": [
    "# Create f_classif object to calculate F-value\n",
    "f_value = f_classif(X_data, y_data)\n",
    "\n",
    "# Print the name and F-value of each feature\n",
    "for feature in zip(feature_names, f_value[0]):\n",
    "    print(feature)"
   ]
  },
  {
   "cell_type": "markdown",
   "metadata": {},
   "source": [
    "Let's visualize the results by creating a bar chart:"
   ]
  },
  {
   "cell_type": "code",
   "execution_count": 194,
   "metadata": {},
   "outputs": [
    {
     "data": {
      "image/png": "[encoded data removed]",
      "text/plain": [
       "<Figure size 288x288 with 1 Axes>"
      ]
     },
     "metadata": {},
     "output_type": "display_data"
    }
   ],
   "source": [
    "# Create a bar chart for visualizing the F-values\n",
    "plt.figure(figsize=(4,4))\n",
    "plt.bar(x=feature_names, height=f_value[0], color='tomato')\n",
    "plt.xticks(rotation='vertical')\n",
    "plt.ylabel('F-value')\n",
    "plt.title('F-value Comparison')\n",
    "plt.show()"
   ]
  },
  {
   "cell_type": "markdown",
   "metadata": {},
   "source": [
    "<a id='section 1.2.'></a>"
   ]
  },
  {
   "cell_type": "markdown",
   "metadata": {},
   "source": [
    "## 1.2. Variance Threshold\n",
    "Variance threshold method removes features whose variance below a pre-defined cutoff value. It is based on the notion that features that do not vary much within themselves have low predictive power. The main weakness of variance threshold is that it does not consider  the relationship of input features with the output feature.\n",
    "\n",
    "It should be noted that, before performing variance thresholding, all features should be standardized so they will have the same scale. \n",
    "\n",
    "Scikit-learn provides **VarianceThreshold** function to perform variance threshold method."
   ]
  },
  {
   "cell_type": "code",
   "execution_count": 195,
   "metadata": {
    "collapsed": true
   },
   "outputs": [],
   "source": [
    "# Import VarianceThreshold from Scikit-learn\n",
    "from sklearn.feature_selection import VarianceThreshold"
   ]
  },
  {
   "cell_type": "markdown",
   "metadata": {},
   "source": [
    "Then, we perform variance thresholding by calling the following:"
   ]
  },
  {
   "cell_type": "code",
   "execution_count": 196,
   "metadata": {},
   "outputs": [
    {
     "name": "stdout",
     "output_type": "stream",
     "text": [
      "('sepal length (cm)', 0.6811222222222222)\n",
      "('sepal width (cm)', 0.1887128888888887)\n",
      "('petal length (cm)', 3.0955026666666674)\n",
      "('petal width (cm)', 0.5771328888888888)\n"
     ]
    }
   ],
   "source": [
    "# Create VarianceThreshold object to perform variance thresholding\n",
    "selector = VarianceThreshold()\n",
    "\n",
    "# Perform variance thresholding\n",
    "selector.fit_transform(X_data)\n",
    "\n",
    "# Print the name and variance of each feature\n",
    "for feature in zip(feature_names, selector.variances_):\n",
    "    print(feature)"
   ]
  },
  {
   "cell_type": "markdown",
   "metadata": {},
   "source": [
    "Let's visualize the results by creating a bar chart:"
   ]
  },
  {
   "cell_type": "code",
   "execution_count": 197,
   "metadata": {},
   "outputs": [
    {
     "data": {
      "image/png": "[encoded data removed]",
      "text/plain": [
       "<Figure size 288x288 with 1 Axes>"
      ]
     },
     "metadata": {},
     "output_type": "display_data"
    }
   ],
   "source": [
    "# Create a bar chart for visualizing the variances\n",
    "plt.figure(figsize=(4,4))\n",
    "plt.bar(x=feature_names, height=selector.variances_, color='tomato')\n",
    "plt.xticks(rotation='vertical')\n",
    "plt.ylabel('Variance')\n",
    "plt.title('Variance Comparison')\n",
    "\n",
    "plt.show()"
   ]
  },
  {
   "cell_type": "markdown",
   "metadata": {},
   "source": [
    "By default, **VarianceThreshold** removes only zero-variance features. Zero-variance feature means that the feature has the same value in all instances. Suppose we want to eliminate features that have variance score below 0.2, we can specify *threshold* parameter."
   ]
  },
  {
   "cell_type": "code",
   "execution_count": 198,
   "metadata": {},
   "outputs": [
    {
     "name": "stdout",
     "output_type": "stream",
     "text": [
      "Number of features before variance thresholding: 4\n",
      "Number of features after variance thresholding: 3\n"
     ]
    }
   ],
   "source": [
    "# Create VarianceThreshold object to perform variance thresholding\n",
    "selector = VarianceThreshold(threshold=0.2)\n",
    "\n",
    "# Transform the dataset according to variance thresholding\n",
    "X_data_new = selector.fit_transform(X_data)\n",
    "\n",
    "# Print the results\n",
    "print('Number of features before variance thresholding: {}'.format(X_data.shape[1]))\n",
    "print('Number of features after variance thresholding: {}'.format(X_data_new.shape[1]))"
   ]
  },
  {
   "cell_type": "markdown",
   "metadata": {},
   "source": [
    "As we can see, **VarianceThreshold** automatically eliminate features that have variance below 0.2. In this case, it removes **sepal width**, which has 0.188 variance. "
   ]
  },
  {
   "cell_type": "markdown",
   "metadata": {},
   "source": [
    "<a id='section 1.3.'></a>"
   ]
  },
  {
   "cell_type": "markdown",
   "metadata": {},
   "source": [
    "## 1.3. Mutual Information\n",
    "Mutual information (MI) measures the dependence of one variable to another by quantifying the amount of information obtained about one feature, through the other feature. MI is symmetric and non-negative, and is zero if and only if the input and output feature are independent. Unlike ANOVA F-value, mutual information can capture non-linear relationships between input and output feature.\n",
    "\n",
    "We can use Scikit-learn to calculate MI. Scikit-learn has two functions to calculate MI:\n",
    "- **mutual_info_classif**, which calculate MI for classification task\n",
    "- **mutual_info_regression**, which calculate MI for regression task \n",
    "\n",
    "We will use **mutual_info_classif** because the Iris dataset entails a classification task."
   ]
  },
  {
   "cell_type": "code",
   "execution_count": 199,
   "metadata": {
    "collapsed": true
   },
   "outputs": [],
   "source": [
    "# Import mutual_info_classif from Scikit-learn\n",
    "from sklearn.feature_selection import mutual_info_classif"
   ]
  },
  {
   "cell_type": "markdown",
   "metadata": {},
   "source": [
    "Then, we calculate MI by calling the following:"
   ]
  },
  {
   "cell_type": "code",
   "execution_count": 200,
   "metadata": {},
   "outputs": [
    {
     "name": "stdout",
     "output_type": "stream",
     "text": [
      "('sepal length (cm)', 0.4738732342805525)\n",
      "('sepal width (cm)', 0.28607227699171767)\n",
      "('petal length (cm)', 0.9895851732491787)\n",
      "('petal width (cm)', 0.9749379656705233)\n"
     ]
    }
   ],
   "source": [
    "# Create mutual_info_classif object to calculate mutual information\n",
    "MI_score = mutual_info_classif(X_data, y_data, random_state=0)\n",
    "\n",
    "# Print the name and mutual information score of each feature\n",
    "for feature in zip(feature_names, MI_score):\n",
    "    print(feature)"
   ]
  },
  {
   "cell_type": "markdown",
   "metadata": {},
   "source": [
    "Let's visualize the results by creating a bar chart:"
   ]
  },
  {
   "cell_type": "code",
   "execution_count": 201,
   "metadata": {},
   "outputs": [
    {
     "data": {
      "image/png": "[encoded data removed]",
      "text/plain": [
       "<Figure size 288x288 with 1 Axes>"
      ]
     },
     "metadata": {},
     "output_type": "display_data"
    }
   ],
   "source": [
    "# Create a bar chart for visualizing the mutual information scores\n",
    "plt.figure(figsize=(4,4))\n",
    "plt.bar(x=feature_names, height=MI_score, color='tomato')\n",
    "plt.xticks(rotation='vertical')\n",
    "plt.ylabel('Mutual Information Score')\n",
    "plt.title('Mutual Information Score Comparison')\n",
    "\n",
    "plt.show()"
   ]
  },
  {
   "cell_type": "markdown",
   "metadata": {},
   "source": [
    "## 1.4. Using Selector Object for Selecting Features\n",
    "We can use **SelectKBest** from Scikit-learn to select features according to the k highest scores, determined by a filter method. First, we need to import **SelectKBest**. "
   ]
  },
  {
   "cell_type": "code",
   "execution_count": 202,
   "metadata": {
    "collapsed": true
   },
   "outputs": [],
   "source": [
    "# Import SelectKBest from Scikit-learn\n",
    "from sklearn.feature_selection import SelectKBest"
   ]
  },
  {
   "cell_type": "markdown",
   "metadata": {},
   "source": [
    "**SelectKBest** has two important parameters:\n",
    "- *score_func*: the filter function that is used for feature selection \n",
    "- *k*: the number of top features to select \n",
    "\n",
    "Let's demonstrate **SelectKBest** by using ANOVA F-value as our filter method. We will select the top two features based on the ANOVA F-value."
   ]
  },
  {
   "cell_type": "code",
   "execution_count": 203,
   "metadata": {},
   "outputs": [
    {
     "name": "stdout",
     "output_type": "stream",
     "text": [
      "Number of features before feature selection: 4\n",
      "Number of features after feature selection: 2\n"
     ]
    }
   ],
   "source": [
    "# Create a SelectKBest object\n",
    "skb = SelectKBest(score_func=f_classif, # Set f_classif as our criteria to select features\n",
    "                  k=2)                  # Select top two features based on the criteria\n",
    "\n",
    "# Train and transform the dataset according to the SelectKBest\n",
    "X_data_new = skb.fit_transform(X_data, y_data)\n",
    "\n",
    "# Print the results\n",
    "print('Number of features before feature selection: {}'.format(X_data.shape[1]))\n",
    "print('Number of features after feature selection: {}'.format(X_data_new.shape[1]))"
   ]
  },
  {
   "cell_type": "markdown",
   "metadata": {},
   "source": [
    "As we can see, **SelectKBest** automatically eliminate two features that have the lowest F-value. \n",
    "\n",
    "We can identify the name of selected features by calling **get_support** method. "
   ]
  },
  {
   "cell_type": "code",
   "execution_count": 204,
   "metadata": {},
   "outputs": [
    {
     "name": "stdout",
     "output_type": "stream",
     "text": [
      "- petal length (cm)\n",
      "- petal width (cm)\n"
     ]
    }
   ],
   "source": [
    "# Print the name of the selected features\n",
    "for feature_list_index in skb.get_support(indices=True):\n",
    "    print('- ' + feature_names[feature_list_index])"
   ]
  },
  {
   "cell_type": "markdown",
   "metadata": {},
   "source": [
    "An alternative of **SelectKBest** is to use **SelectPercentile**, which select features according to a percentile of the highest scores."
   ]
  },
  {
   "cell_type": "markdown",
   "metadata": {},
   "source": [
    "<a id='section 2.0.'></a>"
   ]
  },
  {
   "cell_type": "markdown",
   "metadata": {},
   "source": [
    "# 2.0. Wrapper Methods\n",
    "Wrapper methods try to find a subset of features that yield the best performance for a model by training, evaluating, and comparing the model with different combinations of features. Wrapper methods enable the detection of relationships among features. However, they can be computationally expensive, especially if the number of features is high. The risk of overfitting is also high if the number of instances in the dataset is insufficient. \n",
    "\n",
    "There are some diferrences between filter and wrapper methods:\n",
    "- Filter methods do not incorporate a machine learning model in order to determine if a feature is good or bad whereas wrapper methods use a machine learning model and train it the feature to decide if it is essential or not.\n",
    "- Filter methods are much faster compared to wrapper methods as they do not involve training the models. On the other hand, wrapper methods are computationally costly, and in the case of massive datasets, wrapper methods are not the most effective feature selection method to consider.\n",
    "- Filter methods may fail to find the best subset of features in situations when there is not enough data to model the statistical correlation of the features, but wrapper methods can always provide the best subset of features because of their exhaustive nature.\n",
    "- Using features from wrapper methods in your final machine learning model can lead to overfitting as wrapper methods already train machine learning models with the features and it affects the true power of learning. But the features from filter methods will not lead to overfitting in most of the cases.\n",
    "\n",
    "We will discuss three wrapper methods:\n",
    "1. [Exhaustive feature selection (EFS)](#section 2.1.)\n",
    "2. [Sequential forward selection (SFS)](#section 2.2.)\n",
    "3. [Sequential backward selection (SBS)](#section 2.3.)\n",
    "\n",
    "Each will be discussed in the following."
   ]
  },
  {
   "cell_type": "markdown",
   "metadata": {},
   "source": [
    "<a id='section 2.1.'></a>"
   ]
  },
  {
   "cell_type": "markdown",
   "metadata": {},
   "source": [
    "## 2.1. Exhaustive Feature Selection (EFS)\n",
    "EFS finds the best subset of features by evaluating all feature combinations. Suppose we have a dataset with three features. EFS will evaluate the following feature combinations:\n",
    "- *feature_1*\n",
    "- *feature_2*\n",
    "- *feature_3*\n",
    "- *feature_1* and *feature_2*\n",
    "- *feature_1* and *feature_3*\n",
    "- *feature_2* and *feature_3*\n",
    "- *feature_1*, *feature_2*, and *feature_3*\n",
    "\n",
    "EFS selects a subset that generates the best performance (e.g., accuracy, precision, recall, etc.) of the model being considered.\n",
    "\n",
    "Mlxtend provides **ExhaustiveFeatureSelector** function to perform EFS."
   ]
  },
  {
   "cell_type": "code",
   "execution_count": 205,
   "metadata": {
    "collapsed": true
   },
   "outputs": [],
   "source": [
    "# Import ExhaustiveFeatureSelector from Mlxtend\n",
    "from mlxtend.feature_selection import ExhaustiveFeatureSelector as EFS"
   ]
  },
  {
   "cell_type": "markdown",
   "metadata": {},
   "source": [
    "EFS has five important parameters:\n",
    "- *estimator*: the classifier that we intend to train\n",
    "- *min_features*: the minimum number of features to select\n",
    "- *max_features*: the maximum number of features to select\n",
    "- *scoring*: the metric to use to evaluate the classifier\n",
    "- *cv*: the number of cross-validations to perform\n",
    "\n",
    "In this example, we use logistic regression as our classifier/estimator. "
   ]
  },
  {
   "cell_type": "code",
   "execution_count": 206,
   "metadata": {
    "collapsed": true
   },
   "outputs": [],
   "source": [
    "# Import logistic regression from Scikit-learn\n",
    "from sklearn.linear_model import LogisticRegression"
   ]
  },
  {
   "cell_type": "markdown",
   "metadata": {},
   "source": [
    "Then, we perform EFS by calling the following:"
   ]
  },
  {
   "cell_type": "code",
   "execution_count": 207,
   "metadata": {
    "scrolled": true
   },
   "outputs": [
    {
     "name": "stderr",
     "output_type": "stream",
     "text": [
      "Features: 15/15"
     ]
    },
    {
     "name": "stdout",
     "output_type": "stream",
     "text": [
      "Best accuracy score: 0.96\n",
      "Best subset (indices): (0, 1, 2, 3)\n",
      "Best subset (corresponding names): ('sepal length (cm)', 'sepal width (cm)', 'petal length (cm)', 'petal width (cm)')\n"
     ]
    }
   ],
   "source": [
    "# Create a logistic regression classifier\n",
    "lr = LogisticRegression()\n",
    "\n",
    "# Create an EFS object\n",
    "efs = EFS(estimator=lr,        # Use logistic regression as the classifier/estimator\n",
    "          min_features=1,      # The minimum number of features to consider is 1\n",
    "          max_features=4,      # The maximum number of features to consider is 4\n",
    "          scoring='accuracy',  # The metric to use to evaluate the classifier is accuracy \n",
    "          cv=5)                # The number of cross-validations to perform is 5\n",
    "\n",
    "# Train EFS with our dataset\n",
    "efs = efs.fit(X_data, y_data)\n",
    "\n",
    "# Print the results\n",
    "print('Best accuracy score: %.2f' % efs.best_score_) # best_score_ shows the best score \n",
    "print('Best subset (indices):', efs.best_idx_)       # best_idx_ shows the index of features that yield the best score \n",
    "print('Best subset (corresponding names):', efs.best_feature_names_) # best_feature_names_ shows the feature names \n",
    "                                                                     # that yield the best score"
   ]
  },
  {
   "cell_type": "markdown",
   "metadata": {},
   "source": [
    "We can transform the dataset into a new dataset containing only the subset of features that generates the best score by using **transform** method."
   ]
  },
  {
   "cell_type": "code",
   "execution_count": 208,
   "metadata": {},
   "outputs": [
    {
     "name": "stdout",
     "output_type": "stream",
     "text": [
      "Number of features before transformation: 4\n",
      "Number of features after transformation: 4\n"
     ]
    }
   ],
   "source": [
    "# Transform the dataset\n",
    "X_data_new = efs.transform(X_data)\n",
    "\n",
    "# Print the results\n",
    "print('Number of features before transformation: {}'.format(X_data.shape[1]))\n",
    "print('Number of features after transformation: {}'.format(X_data_new.shape[1]))"
   ]
  },
  {
   "cell_type": "markdown",
   "metadata": {},
   "source": [
    "There is no difference between the dataset after and before the transformation because the subset that yields the best score include all of the features.\n",
    "\n",
    "We can see the performance of each subset of features by calling **get_metric_dict**."
   ]
  },
  {
   "cell_type": "code",
   "execution_count": 209,
   "metadata": {},
   "outputs": [
    {
     "data": {
      "text/html": [
       "<div>\n",
       "<style scoped>\n",
       "    .dataframe tbody tr th:only-of-type {\n",
       "        vertical-align: middle;\n",
       "    }\n",
       "\n",
       "    .dataframe tbody tr th {\n",
       "        vertical-align: top;\n",
       "    }\n",
       "\n",
       "    .dataframe thead th {\n",
       "        text-align: right;\n",
       "    }\n",
       "</style>\n",
       "<table border=\"1\" class=\"dataframe\">\n",
       "  <thead>\n",
       "    <tr style=\"text-align: right;\">\n",
       "      <th></th>\n",
       "      <th>avg_score</th>\n",
       "      <th>ci_bound</th>\n",
       "      <th>cv_scores</th>\n",
       "      <th>feature_idx</th>\n",
       "      <th>feature_names</th>\n",
       "      <th>std_dev</th>\n",
       "      <th>std_err</th>\n",
       "    </tr>\n",
       "  </thead>\n",
       "  <tbody>\n",
       "    <tr>\n",
       "      <th>1</th>\n",
       "      <td>0.533333</td>\n",
       "      <td>0.03832</td>\n",
       "      <td>[0.5, 0.5666666666666667, 0.5, 0.5333333333333...</td>\n",
       "      <td>(1,)</td>\n",
       "      <td>(sepal width (cm),)</td>\n",
       "      <td>0.0298142</td>\n",
       "      <td>0.0149071</td>\n",
       "    </tr>\n",
       "    <tr>\n",
       "      <th>0</th>\n",
       "      <td>0.686667</td>\n",
       "      <td>0.079462</td>\n",
       "      <td>[0.6333333333333333, 0.6666666666666666, 0.633...</td>\n",
       "      <td>(0,)</td>\n",
       "      <td>(sepal length (cm),)</td>\n",
       "      <td>0.0618241</td>\n",
       "      <td>0.0309121</td>\n",
       "    </tr>\n",
       "    <tr>\n",
       "      <th>4</th>\n",
       "      <td>0.766667</td>\n",
       "      <td>0.0898683</td>\n",
       "      <td>[0.7666666666666667, 0.8, 0.6333333333333333, ...</td>\n",
       "      <td>(0, 1)</td>\n",
       "      <td>(sepal length (cm), sepal width (cm))</td>\n",
       "      <td>0.0699206</td>\n",
       "      <td>0.0349603</td>\n",
       "    </tr>\n",
       "    <tr>\n",
       "      <th>2</th>\n",
       "      <td>0.786667</td>\n",
       "      <td>0.0436915</td>\n",
       "      <td>[0.7666666666666667, 0.8333333333333334, 0.733...</td>\n",
       "      <td>(2,)</td>\n",
       "      <td>(petal length (cm),)</td>\n",
       "      <td>0.0339935</td>\n",
       "      <td>0.0169967</td>\n",
       "    </tr>\n",
       "    <tr>\n",
       "      <th>3</th>\n",
       "      <td>0.853333</td>\n",
       "      <td>0.079462</td>\n",
       "      <td>[0.8, 0.8333333333333334, 0.8, 0.8666666666666...</td>\n",
       "      <td>(3,)</td>\n",
       "      <td>(petal width (cm),)</td>\n",
       "      <td>0.0618241</td>\n",
       "      <td>0.0309121</td>\n",
       "    </tr>\n",
       "    <tr>\n",
       "      <th>9</th>\n",
       "      <td>0.866667</td>\n",
       "      <td>0.0898683</td>\n",
       "      <td>[0.8666666666666667, 0.8333333333333334, 0.833...</td>\n",
       "      <td>(2, 3)</td>\n",
       "      <td>(petal length (cm), petal width (cm))</td>\n",
       "      <td>0.0699206</td>\n",
       "      <td>0.0349603</td>\n",
       "    </tr>\n",
       "    <tr>\n",
       "      <th>6</th>\n",
       "      <td>0.893333</td>\n",
       "      <td>0.0737099</td>\n",
       "      <td>[0.8666666666666667, 0.9, 0.8333333333333334, ...</td>\n",
       "      <td>(0, 3)</td>\n",
       "      <td>(sepal length (cm), petal width (cm))</td>\n",
       "      <td>0.0573488</td>\n",
       "      <td>0.0286744</td>\n",
       "    </tr>\n",
       "    <tr>\n",
       "      <th>7</th>\n",
       "      <td>0.9</td>\n",
       "      <td>0.0605892</td>\n",
       "      <td>[0.8666666666666667, 0.9, 0.8333333333333334, ...</td>\n",
       "      <td>(1, 2)</td>\n",
       "      <td>(sepal width (cm), petal length (cm))</td>\n",
       "      <td>0.0471405</td>\n",
       "      <td>0.0235702</td>\n",
       "    </tr>\n",
       "    <tr>\n",
       "      <th>11</th>\n",
       "      <td>0.906667</td>\n",
       "      <td>0.0737099</td>\n",
       "      <td>[0.9333333333333333, 0.9, 0.8666666666666667, ...</td>\n",
       "      <td>(0, 1, 3)</td>\n",
       "      <td>(sepal length (cm), sepal width (cm), petal wi...</td>\n",
       "      <td>0.0573488</td>\n",
       "      <td>0.0286744</td>\n",
       "    </tr>\n",
       "    <tr>\n",
       "      <th>10</th>\n",
       "      <td>0.92</td>\n",
       "      <td>0.0209887</td>\n",
       "      <td>[0.9333333333333333, 0.9333333333333333, 0.9, ...</td>\n",
       "      <td>(0, 1, 2)</td>\n",
       "      <td>(sepal length (cm), sepal width (cm), petal le...</td>\n",
       "      <td>0.0163299</td>\n",
       "      <td>0.00816497</td>\n",
       "    </tr>\n",
       "    <tr>\n",
       "      <th>5</th>\n",
       "      <td>0.92</td>\n",
       "      <td>0.0342744</td>\n",
       "      <td>[0.9333333333333333, 0.9333333333333333, 0.866...</td>\n",
       "      <td>(0, 2)</td>\n",
       "      <td>(sepal length (cm), petal length (cm))</td>\n",
       "      <td>0.0266667</td>\n",
       "      <td>0.0133333</td>\n",
       "    </tr>\n",
       "    <tr>\n",
       "      <th>12</th>\n",
       "      <td>0.933333</td>\n",
       "      <td>0.0605892</td>\n",
       "      <td>[0.9333333333333333, 0.9666666666666667, 0.9, ...</td>\n",
       "      <td>(0, 2, 3)</td>\n",
       "      <td>(sepal length (cm), petal length (cm), petal w...</td>\n",
       "      <td>0.0471405</td>\n",
       "      <td>0.0235702</td>\n",
       "    </tr>\n",
       "    <tr>\n",
       "      <th>8</th>\n",
       "      <td>0.94</td>\n",
       "      <td>0.0568377</td>\n",
       "      <td>[0.9333333333333333, 0.9666666666666667, 0.866...</td>\n",
       "      <td>(1, 3)</td>\n",
       "      <td>(sepal width (cm), petal width (cm))</td>\n",
       "      <td>0.0442217</td>\n",
       "      <td>0.0221108</td>\n",
       "    </tr>\n",
       "    <tr>\n",
       "      <th>13</th>\n",
       "      <td>0.953333</td>\n",
       "      <td>0.0581151</td>\n",
       "      <td>[1.0, 0.9666666666666667, 0.9, 0.9, 1.0]</td>\n",
       "      <td>(1, 2, 3)</td>\n",
       "      <td>(sepal width (cm), petal length (cm), petal wi...</td>\n",
       "      <td>0.0452155</td>\n",
       "      <td>0.0226078</td>\n",
       "    </tr>\n",
       "    <tr>\n",
       "      <th>14</th>\n",
       "      <td>0.96</td>\n",
       "      <td>0.0499631</td>\n",
       "      <td>[1.0, 0.9666666666666667, 0.9333333333333333, ...</td>\n",
       "      <td>(0, 1, 2, 3)</td>\n",
       "      <td>(sepal length (cm), sepal width (cm), petal le...</td>\n",
       "      <td>0.038873</td>\n",
       "      <td>0.0194365</td>\n",
       "    </tr>\n",
       "  </tbody>\n",
       "</table>\n",
       "</div>"
      ],
      "text/plain": [
       "   avg_score   ci_bound                                          cv_scores  \\\n",
       "1   0.533333    0.03832  [0.5, 0.5666666666666667, 0.5, 0.5333333333333...   \n",
       "0   0.686667   0.079462  [0.6333333333333333, 0.6666666666666666, 0.633...   \n",
       "4   0.766667  0.0898683  [0.7666666666666667, 0.8, 0.6333333333333333, ...   \n",
       "2   0.786667  0.0436915  [0.7666666666666667, 0.8333333333333334, 0.733...   \n",
       "3   0.853333   0.079462  [0.8, 0.8333333333333334, 0.8, 0.8666666666666...   \n",
       "9   0.866667  0.0898683  [0.8666666666666667, 0.8333333333333334, 0.833...   \n",
       "6   0.893333  0.0737099  [0.8666666666666667, 0.9, 0.8333333333333334, ...   \n",
       "7        0.9  0.0605892  [0.8666666666666667, 0.9, 0.8333333333333334, ...   \n",
       "11  0.906667  0.0737099  [0.9333333333333333, 0.9, 0.8666666666666667, ...   \n",
       "10      0.92  0.0209887  [0.9333333333333333, 0.9333333333333333, 0.9, ...   \n",
       "5       0.92  0.0342744  [0.9333333333333333, 0.9333333333333333, 0.866...   \n",
       "12  0.933333  0.0605892  [0.9333333333333333, 0.9666666666666667, 0.9, ...   \n",
       "8       0.94  0.0568377  [0.9333333333333333, 0.9666666666666667, 0.866...   \n",
       "13  0.953333  0.0581151           [1.0, 0.9666666666666667, 0.9, 0.9, 1.0]   \n",
       "14      0.96  0.0499631  [1.0, 0.9666666666666667, 0.9333333333333333, ...   \n",
       "\n",
       "     feature_idx                                      feature_names  \\\n",
       "1           (1,)                                (sepal width (cm),)   \n",
       "0           (0,)                               (sepal length (cm),)   \n",
       "4         (0, 1)              (sepal length (cm), sepal width (cm))   \n",
       "2           (2,)                               (petal length (cm),)   \n",
       "3           (3,)                                (petal width (cm),)   \n",
       "9         (2, 3)              (petal length (cm), petal width (cm))   \n",
       "6         (0, 3)              (sepal length (cm), petal width (cm))   \n",
       "7         (1, 2)              (sepal width (cm), petal length (cm))   \n",
       "11     (0, 1, 3)  (sepal length (cm), sepal width (cm), petal wi...   \n",
       "10     (0, 1, 2)  (sepal length (cm), sepal width (cm), petal le...   \n",
       "5         (0, 2)             (sepal length (cm), petal length (cm))   \n",
       "12     (0, 2, 3)  (sepal length (cm), petal length (cm), petal w...   \n",
       "8         (1, 3)               (sepal width (cm), petal width (cm))   \n",
       "13     (1, 2, 3)  (sepal width (cm), petal length (cm), petal wi...   \n",
       "14  (0, 1, 2, 3)  (sepal length (cm), sepal width (cm), petal le...   \n",
       "\n",
       "      std_dev     std_err  \n",
       "1   0.0298142   0.0149071  \n",
       "0   0.0618241   0.0309121  \n",
       "4   0.0699206   0.0349603  \n",
       "2   0.0339935   0.0169967  \n",
       "3   0.0618241   0.0309121  \n",
       "9   0.0699206   0.0349603  \n",
       "6   0.0573488   0.0286744  \n",
       "7   0.0471405   0.0235702  \n",
       "11  0.0573488   0.0286744  \n",
       "10  0.0163299  0.00816497  \n",
       "5   0.0266667   0.0133333  \n",
       "12  0.0471405   0.0235702  \n",
       "8   0.0442217   0.0221108  \n",
       "13  0.0452155   0.0226078  \n",
       "14   0.038873   0.0194365  "
      ]
     },
     "execution_count": 209,
     "metadata": {},
     "output_type": "execute_result"
    }
   ],
   "source": [
    "# Show the performance of each subset of features\n",
    "efs_results = pd.DataFrame.from_dict(efs.get_metric_dict()).T\n",
    "efs_results.sort_values(by='avg_score', ascending=True, inplace=True)\n",
    "efs_results"
   ]
  },
  {
   "cell_type": "markdown",
   "metadata": {},
   "source": [
    "Let's visualize the performance of each subset of features by creating a horizontal bar chart:"
   ]
  },
  {
   "cell_type": "code",
   "execution_count": 210,
   "metadata": {},
   "outputs": [
    {
     "data": {
      "image/png": "[encoded data removed]",
      "text/plain": [
       "<Figure size 864x648 with 1 Axes>"
      ]
     },
     "metadata": {},
     "output_type": "display_data"
    }
   ],
   "source": [
    "# Create a horizontal bar chart for visualizing \n",
    "# the performance of each subset of features\n",
    "fig, ax = plt.subplots(figsize=(12,9))\n",
    "y_pos = np.arange(len(efs_results))\n",
    "ax.barh(y_pos, \n",
    "        efs_results['avg_score'],\n",
    "        xerr=efs_results['std_dev'],\n",
    "        color='tomato')\n",
    "ax.set_yticks(y_pos)\n",
    "ax.set_yticklabels(efs_results['feature_names'])\n",
    "ax.set_xlabel('Accuracy')\n",
    "plt.show()"
   ]
  },
  {
   "cell_type": "markdown",
   "metadata": {},
   "source": [
    "<a id='section 2.2.'></a>"
   ]
  },
  {
   "cell_type": "markdown",
   "metadata": {},
   "source": [
    "## 2.2. Sequential Forward Selection (SFS)\n",
    "SFS finds the best subset of feature by adding a feature that best improves the model at each iteration. \n",
    "\n",
    "Mlxtend provides **SequentialFeatureSelector** function to perform SFS."
   ]
  },
  {
   "cell_type": "code",
   "execution_count": 211,
   "metadata": {
    "collapsed": true
   },
   "outputs": [],
   "source": [
    "# Import SequentialFeatureSelector from Mlxtend\n",
    "from mlxtend.feature_selection import SequentialFeatureSelector as SFS"
   ]
  },
  {
   "cell_type": "markdown",
   "metadata": {},
   "source": [
    "EFS has five important parameters:\n",
    "- *estimator*: the classifier that we intend to train\n",
    "- *k_features*: the number of features to select. A tuple containing a min and max value can be provided, and the SFS will consider return any feature combination between min and max that scored highest in cross-validtion.\n",
    "- *forward*: use SFS if True and use SBS if False \n",
    "- *scoring*: the metric to use to evaluate the classifier\n",
    "- *cv*: the number of cross-validations to perform\n",
    "\n",
    "In this example, we use logistic regression as our classifier/estimator. "
   ]
  },
  {
   "cell_type": "code",
   "execution_count": 212,
   "metadata": {},
   "outputs": [
    {
     "name": "stdout",
     "output_type": "stream",
     "text": [
      "Best accuracy score: 0.96\n",
      "Best subset (indices): (0, 1, 2, 3)\n",
      "Best subset (corresponding names): ('sepal length (cm)', 'sepal width (cm)', 'petal length (cm)', 'petal width (cm)')\n"
     ]
    }
   ],
   "source": [
    "# Create a logistic regression classifier\n",
    "lr = LogisticRegression()\n",
    "\n",
    "# Create an SFS object\n",
    "sfs = SFS(estimator=lr,       # Use logistic regression as our classifier\n",
    "          k_features=(1, 4),  # Consider any feature combination between 1 and 4\n",
    "          forward=True,       # Set forward to True when we want to perform SFS\n",
    "          scoring='accuracy', # The metric to use to evaluate the classifier is accuracy \n",
    "          cv=5)               # The number of cross-validations to perform is 5\n",
    "\n",
    "# Train SFS with our dataset\n",
    "sfs = sfs.fit(X_data, y_data)\n",
    "\n",
    "# Print the results\n",
    "print('Best accuracy score: %.2f' % sfs.k_score_)   # k_score_ shows the best score \n",
    "print('Best subset (indices):', sfs.k_feature_idx_) # k_feature_idx_ shows the index of features \n",
    "                                                    # that yield the best score\n",
    "print('Best subset (corresponding names):', sfs.k_feature_names_) # k_feature_names_ shows the feature names \n",
    "                                                                  # that yield the best score"
   ]
  },
  {
   "cell_type": "markdown",
   "metadata": {},
   "source": [
    "We can transform the dataset into a new dataset containing only the subset of features that generates the best score by using **transform** method."
   ]
  },
  {
   "cell_type": "code",
   "execution_count": 213,
   "metadata": {},
   "outputs": [
    {
     "name": "stdout",
     "output_type": "stream",
     "text": [
      "Number of features before transformation: 4\n",
      "Number of features after transformation: 4\n"
     ]
    }
   ],
   "source": [
    "# Transform the dataset\n",
    "X_data_new = sfs.transform(X_data)\n",
    "\n",
    "# Print the results\n",
    "print('Number of features before transformation: {}'.format(X_data.shape[1]))\n",
    "print('Number of features after transformation: {}'.format(X_data_new.shape[1]))"
   ]
  },
  {
   "cell_type": "markdown",
   "metadata": {},
   "source": [
    "There is no difference between the dataset after and before the transformation because the subset that yields the best score include all of the features.\n",
    "\n",
    "We can see the performance of each subset of features considered by SFS by calling **subsets_**."
   ]
  },
  {
   "cell_type": "code",
   "execution_count": 214,
   "metadata": {},
   "outputs": [
    {
     "data": {
      "text/html": [
       "<div>\n",
       "<style scoped>\n",
       "    .dataframe tbody tr th:only-of-type {\n",
       "        vertical-align: middle;\n",
       "    }\n",
       "\n",
       "    .dataframe tbody tr th {\n",
       "        vertical-align: top;\n",
       "    }\n",
       "\n",
       "    .dataframe thead th {\n",
       "        text-align: right;\n",
       "    }\n",
       "</style>\n",
       "<table border=\"1\" class=\"dataframe\">\n",
       "  <thead>\n",
       "    <tr style=\"text-align: right;\">\n",
       "      <th></th>\n",
       "      <th>avg_score</th>\n",
       "      <th>cv_scores</th>\n",
       "      <th>feature_idx</th>\n",
       "      <th>feature_names</th>\n",
       "    </tr>\n",
       "  </thead>\n",
       "  <tbody>\n",
       "    <tr>\n",
       "      <th>1</th>\n",
       "      <td>0.853333</td>\n",
       "      <td>[0.8, 0.8333333333333334, 0.8, 0.8666666666666...</td>\n",
       "      <td>(3,)</td>\n",
       "      <td>(petal width (cm),)</td>\n",
       "    </tr>\n",
       "    <tr>\n",
       "      <th>2</th>\n",
       "      <td>0.94</td>\n",
       "      <td>[0.9333333333333333, 0.9666666666666667, 0.866...</td>\n",
       "      <td>(1, 3)</td>\n",
       "      <td>(sepal width (cm), petal width (cm))</td>\n",
       "    </tr>\n",
       "    <tr>\n",
       "      <th>3</th>\n",
       "      <td>0.953333</td>\n",
       "      <td>[1.0, 0.9666666666666667, 0.9, 0.9, 1.0]</td>\n",
       "      <td>(1, 2, 3)</td>\n",
       "      <td>(sepal width (cm), petal length (cm), petal wi...</td>\n",
       "    </tr>\n",
       "    <tr>\n",
       "      <th>4</th>\n",
       "      <td>0.96</td>\n",
       "      <td>[1.0, 0.9666666666666667, 0.9333333333333333, ...</td>\n",
       "      <td>(0, 1, 2, 3)</td>\n",
       "      <td>(sepal length (cm), sepal width (cm), petal le...</td>\n",
       "    </tr>\n",
       "  </tbody>\n",
       "</table>\n",
       "</div>"
      ],
      "text/plain": [
       "  avg_score                                          cv_scores   feature_idx  \\\n",
       "1  0.853333  [0.8, 0.8333333333333334, 0.8, 0.8666666666666...          (3,)   \n",
       "2      0.94  [0.9333333333333333, 0.9666666666666667, 0.866...        (1, 3)   \n",
       "3  0.953333           [1.0, 0.9666666666666667, 0.9, 0.9, 1.0]     (1, 2, 3)   \n",
       "4      0.96  [1.0, 0.9666666666666667, 0.9333333333333333, ...  (0, 1, 2, 3)   \n",
       "\n",
       "                                       feature_names  \n",
       "1                                (petal width (cm),)  \n",
       "2               (sepal width (cm), petal width (cm))  \n",
       "3  (sepal width (cm), petal length (cm), petal wi...  \n",
       "4  (sepal length (cm), sepal width (cm), petal le...  "
      ]
     },
     "execution_count": 214,
     "metadata": {},
     "output_type": "execute_result"
    }
   ],
   "source": [
    "# Show the performance of each subset of features considered by SFS\n",
    "sfs_results = pd.DataFrame.from_dict(sfs.subsets_).T \n",
    "sfs_results"
   ]
  },
  {
   "cell_type": "markdown",
   "metadata": {},
   "source": [
    "Let's visualize the performance of each subset of features by creating a horizontal bar chart:"
   ]
  },
  {
   "cell_type": "code",
   "execution_count": 215,
   "metadata": {},
   "outputs": [
    {
     "data": {
      "image/png": "[encoded data removed]",
      "text/plain": [
       "<Figure size 432x144 with 1 Axes>"
      ]
     },
     "metadata": {},
     "output_type": "display_data"
    }
   ],
   "source": [
    "# Create a horizontal bar chart for visualizing \n",
    "# the performance of each subset of features\n",
    "fig, ax = plt.subplots(figsize=(6,2))\n",
    "y_pos = np.arange(len(sfs_results))\n",
    "ax.barh(y_pos, \n",
    "        sfs_results['avg_score'], \n",
    "        color='tomato')\n",
    "ax.set_yticks(y_pos)\n",
    "ax.set_yticklabels(sfs_results['feature_names'])\n",
    "ax.set_xlabel('Accuracy')\n",
    "plt.show()"
   ]
  },
  {
   "cell_type": "markdown",
   "metadata": {},
   "source": [
    "<a id='section 2.3.'></a>"
   ]
  },
  {
   "cell_type": "markdown",
   "metadata": {},
   "source": [
    "### 2.3. Sequential Backward Selection (SBS)\n",
    "SBS is the opposite of SFS. SBS starts with all features and removes the feature that has the least importance to the model at each iteration. \n",
    "\n",
    "To perform SBS use, we can use **SequentialFeatureSelector** by Mlxtend. This is the same function that we use to perform SFS. The different is we have to set the *k_features* parameter to False. "
   ]
  },
  {
   "cell_type": "code",
   "execution_count": 216,
   "metadata": {},
   "outputs": [
    {
     "name": "stdout",
     "output_type": "stream",
     "text": [
      "Best accuracy score: 0.96\n",
      "Best subset (indices): (0, 1, 2, 3)\n",
      "Best subset (corresponding names): ('sepal length (cm)', 'sepal width (cm)', 'petal length (cm)', 'petal width (cm)')\n"
     ]
    }
   ],
   "source": [
    "# Create a logistic regression classifier\n",
    "lr = LogisticRegression()\n",
    "\n",
    "# Create an SBS object\n",
    "sbs = SFS(estimator=lr,       # Use logistic regression as our classifier\n",
    "          k_features=(1, 4),  # Consider any feature combination between 1 and 4\n",
    "          forward=False,      # Set forward to False when we want to perform SBS\n",
    "          scoring='accuracy', # The metric to use to evaluate the classifier is accuracy \n",
    "          cv=5)               # The number of cross-validations to perform is 5\n",
    "\n",
    "# Train SBS with our dataset\n",
    "sbs = sbs.fit(X_data.values, y_data, custom_feature_names=feature_names)\n",
    "\n",
    "# Print the results\n",
    "print('Best accuracy score: %.2f' % sbs.k_score_)   # k_score_ shows the best score \n",
    "print('Best subset (indices):', sbs.k_feature_idx_) # k_feature_idx_ shows the index of features \n",
    "                                                    # that yield the best score\n",
    "print('Best subset (corresponding names):', sbs.k_feature_names_) # k_feature_names_ shows the feature names \n",
    "                                                                  # that yield the best score"
   ]
  },
  {
   "cell_type": "markdown",
   "metadata": {},
   "source": [
    "We can transform the dataset into a new dataset containing only the subset of features that generates the best score by using **transform** method."
   ]
  },
  {
   "cell_type": "code",
   "execution_count": 217,
   "metadata": {},
   "outputs": [
    {
     "name": "stdout",
     "output_type": "stream",
     "text": [
      "Number of features before transformation: 4\n",
      "Number of features after transformation: 4\n"
     ]
    }
   ],
   "source": [
    "# Transform the dataset\n",
    "X_data_new = sbs.transform(X_data)\n",
    "\n",
    "# Print the results\n",
    "print('Number of features before transformation: {}'.format(X_data.shape[1]))\n",
    "print('Number of features after transformation: {}'.format(X_data_new.shape[1]))"
   ]
  },
  {
   "cell_type": "markdown",
   "metadata": {},
   "source": [
    "There is no difference between the dataset after and before the transformation because the subset that yields the best score include all of the features.\n",
    "\n",
    "We can see the performance of each subset of features considered by SFS by calling **subsets_**."
   ]
  },
  {
   "cell_type": "code",
   "execution_count": 218,
   "metadata": {},
   "outputs": [
    {
     "data": {
      "text/html": [
       "<div>\n",
       "<style scoped>\n",
       "    .dataframe tbody tr th:only-of-type {\n",
       "        vertical-align: middle;\n",
       "    }\n",
       "\n",
       "    .dataframe tbody tr th {\n",
       "        vertical-align: top;\n",
       "    }\n",
       "\n",
       "    .dataframe thead th {\n",
       "        text-align: right;\n",
       "    }\n",
       "</style>\n",
       "<table border=\"1\" class=\"dataframe\">\n",
       "  <thead>\n",
       "    <tr style=\"text-align: right;\">\n",
       "      <th></th>\n",
       "      <th>avg_score</th>\n",
       "      <th>cv_scores</th>\n",
       "      <th>feature_idx</th>\n",
       "      <th>feature_names</th>\n",
       "    </tr>\n",
       "  </thead>\n",
       "  <tbody>\n",
       "    <tr>\n",
       "      <th>4</th>\n",
       "      <td>0.96</td>\n",
       "      <td>[1.0, 0.9666666666666667, 0.9333333333333333, ...</td>\n",
       "      <td>(0, 1, 2, 3)</td>\n",
       "      <td>(sepal length (cm), sepal width (cm), petal le...</td>\n",
       "    </tr>\n",
       "    <tr>\n",
       "      <th>3</th>\n",
       "      <td>0.953333</td>\n",
       "      <td>[1.0, 0.9666666666666667, 0.9, 0.9, 1.0]</td>\n",
       "      <td>(1, 2, 3)</td>\n",
       "      <td>(sepal width (cm), petal length (cm), petal wi...</td>\n",
       "    </tr>\n",
       "    <tr>\n",
       "      <th>2</th>\n",
       "      <td>0.94</td>\n",
       "      <td>[0.9333333333333333, 0.9666666666666667, 0.866...</td>\n",
       "      <td>(1, 3)</td>\n",
       "      <td>(sepal width (cm), petal width (cm))</td>\n",
       "    </tr>\n",
       "    <tr>\n",
       "      <th>1</th>\n",
       "      <td>0.853333</td>\n",
       "      <td>[0.8, 0.8333333333333334, 0.8, 0.8666666666666...</td>\n",
       "      <td>(3,)</td>\n",
       "      <td>(petal width (cm),)</td>\n",
       "    </tr>\n",
       "  </tbody>\n",
       "</table>\n",
       "</div>"
      ],
      "text/plain": [
       "  avg_score                                          cv_scores   feature_idx  \\\n",
       "4      0.96  [1.0, 0.9666666666666667, 0.9333333333333333, ...  (0, 1, 2, 3)   \n",
       "3  0.953333           [1.0, 0.9666666666666667, 0.9, 0.9, 1.0]     (1, 2, 3)   \n",
       "2      0.94  [0.9333333333333333, 0.9666666666666667, 0.866...        (1, 3)   \n",
       "1  0.853333  [0.8, 0.8333333333333334, 0.8, 0.8666666666666...          (3,)   \n",
       "\n",
       "                                       feature_names  \n",
       "4  (sepal length (cm), sepal width (cm), petal le...  \n",
       "3  (sepal width (cm), petal length (cm), petal wi...  \n",
       "2               (sepal width (cm), petal width (cm))  \n",
       "1                                (petal width (cm),)  "
      ]
     },
     "execution_count": 218,
     "metadata": {},
     "output_type": "execute_result"
    }
   ],
   "source": [
    "# Show the performance of each subset of features considered by SBS\n",
    "sbs_results = pd.DataFrame.from_dict(sbs.subsets_).T\n",
    "sbs_results"
   ]
  },
  {
   "cell_type": "markdown",
   "metadata": {},
   "source": [
    "Let's visualize the performance of each subset of features by creating a horizontal bar chart:"
   ]
  },
  {
   "cell_type": "code",
   "execution_count": 219,
   "metadata": {},
   "outputs": [
    {
     "data": {
      "image/png": "[encoded data removed]",
      "text/plain": [
       "<Figure size 432x144 with 1 Axes>"
      ]
     },
     "metadata": {},
     "output_type": "display_data"
    }
   ],
   "source": [
    "# Create a horizontal bar chart for visualizing \n",
    "# the performance of each subset of features\n",
    "fig, ax = plt.subplots(figsize=(6,2))\n",
    "y_pos = np.arange(len(sbs_results))\n",
    "ax.barh(y_pos, \n",
    "        sbs_results['avg_score'], \n",
    "        color='tomato')\n",
    "ax.set_yticks(y_pos)\n",
    "ax.set_yticklabels(sbs_results['feature_names'])\n",
    "ax.set_xlabel('Accuracy')\n",
    "plt.show()"
   ]
  },
  {
   "cell_type": "markdown",
   "metadata": {},
   "source": [
    "Let's compare the selection generated by EFS, SFS, and SBS."
   ]
  },
  {
   "cell_type": "code",
   "execution_count": 220,
   "metadata": {},
   "outputs": [
    {
     "name": "stdout",
     "output_type": "stream",
     "text": [
      "Best subset by EFS: ('sepal length (cm)', 'sepal width (cm)', 'petal length (cm)', 'petal width (cm)')\n",
      "Best subset by SFS: ('sepal length (cm)', 'sepal width (cm)', 'petal length (cm)', 'petal width (cm)')\n",
      "Best subset by SBS: ('sepal length (cm)', 'sepal width (cm)', 'petal length (cm)', 'petal width (cm)')\n"
     ]
    }
   ],
   "source": [
    "# Compare the selection generated by EFS, SFS, and SBS\n",
    "print('Best subset by EFS:', efs.best_feature_names_)\n",
    "print('Best subset by SFS:', sfs.k_feature_names_)\n",
    "print('Best subset by SBS:', sbs.k_feature_names_)"
   ]
  },
  {
   "cell_type": "markdown",
   "metadata": {},
   "source": [
    "In this simple scenario, selecting the best combination of features out of the 4 available features in the Iris set, we end up with similar results regardless of which selection algorithms we used. In other cases with larger dataset and higher number of features, the selection is highly likely to be different for each selection algorithm."
   ]
  },
  {
   "cell_type": "markdown",
   "metadata": {},
   "source": [
    "<a id='section 3.0.'></a>"
   ]
  },
  {
   "cell_type": "markdown",
   "metadata": {},
   "source": [
    "# 3.0. Embedded Methods\n",
    "Embedded methods combine the strong points of filter and wrapper methods by taking advantage of machine algorithms that have their own built-in feature selection process. They integrate a feature selection step as a part of the training process (i.e., feature selection and training process are performed simultaneously). Embedded methods generally have a more efficient process than wrapper methods because they eliminate the need to retrain every single subset of features being examined. Some of machine algorithms that can be used for feature selection are:\n",
    "- LASSO regression\n",
    "- Ridge regression\n",
    "- Decision tree\n",
    "- Random forest\n",
    "- Support vector machine\n",
    "\n",
    "In the next section, we will focus on feature selection using random forest."
   ]
  },
  {
   "cell_type": "markdown",
   "metadata": {},
   "source": [
    "## 3.1. Feature Selection Using Random Forest\n",
    "Random forest is one of the most popular learning algorithms used for feature selection in a data science workflow. As explained by Chris Albon:\n",
    ">*\"... the tree-based strategies used by random forests naturally ranks by how well they improve the purity of the node. This mean decrease in impurity over all trees (called gini impurity). Nodes with the greatest decrease in impurity happen at the start of the trees, while notes with the least decrease in impurity occur at the end of trees. Thus, by pruning trees below a particular node, we can create a subset of the most important features.\"*\n",
    "\n",
    "To perform feature selection using random forest classifier, let's first import **RandomForestClassifier** from Scikit-learn."
   ]
  },
  {
   "cell_type": "code",
   "execution_count": 221,
   "metadata": {
    "collapsed": true
   },
   "outputs": [],
   "source": [
    "# Import RandomForestClassifier from Scikit-learn\n",
    "from sklearn.ensemble import RandomForestClassifier"
   ]
  },
  {
   "cell_type": "markdown",
   "metadata": {},
   "source": [
    "We need to split our dataset into train and test split because the feature selection is a part of the training process. "
   ]
  },
  {
   "cell_type": "code",
   "execution_count": 222,
   "metadata": {
    "collapsed": true
   },
   "outputs": [],
   "source": [
    "# Import train_test_split from Scikit-learn\n",
    "from sklearn.model_selection import train_test_split\n",
    "\n",
    "# Split the dataset into 30% test and 70% training\n",
    "X_train, X_test, y_train, y_test = train_test_split(X_data, y_data, test_size=0.3, random_state=0)"
   ]
  },
  {
   "cell_type": "markdown",
   "metadata": {},
   "source": [
    "Please note that we use gini criterion to define feature importance. There are other criteria of importance, but we only limit our discussion to gini criterion."
   ]
  },
  {
   "cell_type": "code",
   "execution_count": 223,
   "metadata": {},
   "outputs": [
    {
     "name": "stdout",
     "output_type": "stream",
     "text": [
      "('sepal length (cm)', 0.1433448537384387)\n",
      "('sepal width (cm)', 0.026480299171550252)\n",
      "('petal length (cm)', 0.400583152709378)\n",
      "('petal width (cm)', 0.4295916943806331)\n"
     ]
    }
   ],
   "source": [
    "# Create a random forest classifier\n",
    "rfc = RandomForestClassifier(random_state=0, \n",
    "                             criterion='gini') # Use gini criterion to define feature importance\n",
    "\n",
    "# Train the classifier\n",
    "rfc.fit(X_train, y_train)\n",
    "\n",
    "# Print the name and gini importance of each feature\n",
    "for feature in zip(feature_names, rfc.feature_importances_): \n",
    "    print(feature)"
   ]
  },
  {
   "cell_type": "markdown",
   "metadata": {},
   "source": [
    "If we add up all the importance scores, the result is 100%. As we can see, **petal length** and **petal width** correspond to 83% of the total importance score. They are clearly the most important features!"
   ]
  },
  {
   "cell_type": "markdown",
   "metadata": {},
   "source": [
    "## 3.2. Using Selector Object for Selecting Features\n",
    "We can use **SelectFromModel** from Scikit-learn to select features according to a threshold of feature importance. First, we need to import **SelectKBest**."
   ]
  },
  {
   "cell_type": "code",
   "execution_count": 224,
   "metadata": {
    "collapsed": true
   },
   "outputs": [],
   "source": [
    "from sklearn.feature_selection import SelectFromModel"
   ]
  },
  {
   "cell_type": "markdown",
   "metadata": {},
   "source": [
    "**SelectFromModel** has two important parameters:\n",
    "- *estimator*: the machine learning algorithm used to select features\n",
    "- *threshold*: the threshold value to use for feature selection. Features whose importance is greater or equal are kept while the others are discarded.\n",
    "\n",
    "Let's demonstrate **SelectFromModel** by a random forest classifier with gini importance. We will select features that have importance above 0.2. "
   ]
  },
  {
   "cell_type": "code",
   "execution_count": 225,
   "metadata": {},
   "outputs": [
    {
     "name": "stdout",
     "output_type": "stream",
     "text": [
      "The most important features based on random forest classifier:\n",
      "- petal length (cm)\n",
      "- petal width (cm)\n"
     ]
    }
   ],
   "source": [
    "# Create a random forest classifier\n",
    "rfc = RandomForestClassifier(random_state=0, \n",
    "                             criterion='gini') # Use gini criterion to define feature importance\n",
    "\n",
    "# Create a SelectFromModel object \n",
    "sfm = SelectFromModel(estimator=rfc, # Use random forest classifier to identify features\n",
    "                      threshold=0.2) # that have an importance of more than 0.2\n",
    "\n",
    "# Train the selector\n",
    "sfm = sfm.fit(X_train, y_train)\n",
    "\n",
    "# Print the names of the most important features\n",
    "print('The most important features based on random forest classifier:')\n",
    "for feature_list_index in sfm.get_support(indices=True):\n",
    "    print('- ' + feature_names[feature_list_index])"
   ]
  },
  {
   "cell_type": "markdown",
   "metadata": {},
   "source": [
    "We can transform the dataset into a new dataset containing only the most important features by using **transform** method."
   ]
  },
  {
   "cell_type": "code",
   "execution_count": 226,
   "metadata": {},
   "outputs": [
    {
     "name": "stdout",
     "output_type": "stream",
     "text": [
      "Number of features before transformation: 4\n",
      "Number of features after transformation: 2\n"
     ]
    }
   ],
   "source": [
    "# Transform the dataset\n",
    "X_important_train = sfm.transform(X_train)\n",
    "X_important_test = sfm.transform(X_test)\n",
    "\n",
    "# Print the results\n",
    "print('Number of features before transformation: {}'.format(X_train.shape[1]))\n",
    "print('Number of features after transformation: {}'.format(X_important_train.shape[1]))"
   ]
  },
  {
   "cell_type": "markdown",
   "metadata": {},
   "source": [
    "## 3.3. Comparing the Accuracy of Classifier with Full Features and with Limited Features\n",
    "Let's compare the accuracy of a classifier with full features and a classifier with limited features (i.e., the top two important features based on random forest classifier)."
   ]
  },
  {
   "cell_type": "code",
   "execution_count": 228,
   "metadata": {
    "collapsed": true
   },
   "outputs": [],
   "source": [
    "# Import accuracy_score from Scikit-learn\n",
    "from sklearn.metrics import accuracy_score"
   ]
  },
  {
   "cell_type": "code",
   "execution_count": 231,
   "metadata": {},
   "outputs": [
    {
     "name": "stdout",
     "output_type": "stream",
     "text": [
      "The accuracy of classifier with full features: 0.98\n"
     ]
    }
   ],
   "source": [
    "# Create a random forest classifier\n",
    "rfc_full = RandomForestClassifier(random_state=0, criterion='gini')\n",
    "\n",
    "# Train the classifier using dataset with full features\n",
    "rfc_full.fit(X_train, y_train)\n",
    "\n",
    "# Make predictions\n",
    "pred_full = rfc_full.predict(X_test)\n",
    "\n",
    "# Generate accuracy score\n",
    "print('The accuracy of classifier with full features: {:.2f}'.format(accuracy_score(y_test, pred_full)))"
   ]
  },
  {
   "cell_type": "code",
   "execution_count": 232,
   "metadata": {},
   "outputs": [
    {
     "name": "stdout",
     "output_type": "stream",
     "text": [
      "The accuracy of classifier with limited features: 0.96\n"
     ]
    }
   ],
   "source": [
    "# Create a random forest classifier\n",
    "rfc_lim = RandomForestClassifier(random_state=0, criterion='gini')\n",
    "\n",
    "# Train the classifier with limited features\n",
    "rfc_lim.fit(X_important_train, y_train)\n",
    "\n",
    "# Make predictions\n",
    "pred_lim = rfc_lim.predict(X_important_test)\n",
    "\n",
    "# Generate accuracy score\n",
    "print('The accuracy of classifier with limited features: {:.2f}'.format(accuracy_score(y_test, pred_lim)))"
   ]
  },
  {
   "cell_type": "markdown",
   "metadata": {},
   "source": [
    "It can be seen that we can reduce the number of features without significantly reduce the performance of the model."
   ]
  },
  {
   "cell_type": "markdown",
   "metadata": {},
   "source": [
    "# References\n",
    "This notebook cannot be created without the following references:"
   ]
  },
  {
   "cell_type": "markdown",
   "metadata": {},
   "source": [
    "- [Feature Selection Using Random Forest by Chris Albon](https://chrisalbon.com/machine_learning/trees_and_forests/feature_selection_using_random_forest/)\n",
    "- [Why, How and When to apply Feature Selection](https://towardsdatascience.com/why-how-and-when-to-apply-feature-selection-e9c69adfabf2)\n",
    "- [Introduction to Feature Selection methods with an example](https://www.analyticsvidhya.com/blog/2016/12/introduction-to-feature-selection-methods-with-an-example-or-how-to-select-the-right-variables/)\n",
    "- [An Introduction to Feature Selection](https://machinelearningmastery.com/an-introduction-to-feature-selection/)\n",
    "- [Beginner's Guide to Feature Selection in Python](https://www.datacamp.com/community/tutorials/feature-selection-python)\n",
    "- [Sequential Feature Selector](http://rasbt.github.io/mlxtend/user_guide/feature_selection/SequentialFeatureSelector/)"
   ]
  },
  {
   "cell_type": "code",
   "execution_count": null,
   "metadata": {
    "collapsed": true
   },
   "outputs": [],
   "source": []
  }
 ],
 "metadata": {
  "kernelspec": {
   "display_name": "Python 3",
   "language": "python",
   "name": "python3"
  },
  "language_info": {
   "codemirror_mode": {
    "name": "ipython",
    "version": 3
   },
   "file_extension": ".py",
   "mimetype": "text/x-python",
   "name": "python",
   "nbconvert_exporter": "python",
   "pygments_lexer": "ipython3",
   "version": "3.6.3"
  }
 },
 "nbformat": 4,
 "nbformat_minor": 2
}
